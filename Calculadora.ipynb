{
  "nbformat": 4,
  "nbformat_minor": 0,
  "metadata": {
    "colab": {
      "provenance": [],
      "authorship_tag": "ABX9TyMrQM+YNE69z42dO8YnPOo8"
    },
    "kernelspec": {
      "name": "python3",
      "display_name": "Python 3"
    },
    "language_info": {
      "name": "python"
    }
  },
  "cells": [
    {
      "cell_type": "code",
      "execution_count": 49,
      "metadata": {
        "colab": {
          "base_uri": "https://localhost:8080/"
        },
        "id": "iT_2DhzW7Uot",
        "outputId": "7e8d8b89-1714-44e0-dc7d-e7ab2957b1e5"
      },
      "outputs": [
        {
          "output_type": "stream",
          "name": "stdout",
          "text": [
            "¿Cuál es su nombre? vania\n",
            "¿Cuál es su apellido paterno? bel\n",
            "¿Cuál es su apellido materno? mo\n",
            "¿Cuál es su edad? 45\n",
            "Indique su peso en kg 50\n",
            "Indique su estatura en metros 1.59\n",
            "Su IMC es 19.78 - Peso normal\n"
          ]
        }
      ],
      "source": [
        "nombre = str(input(\"¿Cuál es su nombre? \"))\n",
        "apellidop = input(\"¿Cuál es su apellido paterno? \")\n",
        "apellidom = input(\"¿Cuál es su apellido materno? \")\n",
        "\n",
        "while True:\n",
        "  try:\n",
        "    edad = int(input(\"¿Cuál es su edad? \"))\n",
        "  except ValueError:\n",
        "        print(\"Debe escribir su edad.\")\n",
        "        continue\n",
        "  if edad < 0:\n",
        "        print(\"Debe escribir un número positivo.\")\n",
        "        continue\n",
        "  else:\n",
        "    break\n",
        "while True:\n",
        "  try:\n",
        "    peso = float(input(\"Indique su peso en kg \"))\n",
        "  except ValueError:\n",
        "        print(\"Debe escribir su peso en kg.\")\n",
        "        continue\n",
        "  if peso < 0:\n",
        "        print(\"Debe escribir un número positivo.\")\n",
        "        continue\n",
        "  else:\n",
        "    break\n",
        "while True:\n",
        "  try:\n",
        "    estatura = float(input(\"Indique su estatura en metros \"))\n",
        "  except ValueError:\n",
        "        print(\"Debe escribir su estatura en metros.\")\n",
        "        continue\n",
        "  if estatura < 0:\n",
        "        print(\"Debe escribir un número positivo.\")\n",
        "        continue\n",
        "  else:\n",
        "    break\n",
        "\n",
        "imc = round(peso/(estatura*estatura),2)\n",
        "\n",
        "if (imc <= 16):\n",
        "  print(f\"Su IMC es {imc} - Desnutrición severa\")\n",
        "elif (imc > 16 and imc <= 16.99):\n",
        "  print(f\"Su IMC es {imc} - Desnutrición moderada\")\n",
        "elif (imc > 16.99 and imc <= 18.49):\n",
        "  print(f\"Su IMC es {imc} - Bajo peso\")\n",
        "elif (imc > 18.49 and imc <= 24.99):\n",
        "  print(f\"Su IMC es {imc} - Peso normal\")\n",
        "elif (imc > 24.99 and imc <= 29.99):\n",
        "  print(f\"Su IMC es {imc} - Sobrepeso\")\n",
        "elif (imc > 29.99 and imc <= 34.99):\n",
        "  print(f\"Su IMC es {imc} - Obecidad tipo I\")\n",
        "elif (imc > 34.99 and imc <= 40):\n",
        "  print(f\"Su IMC es {imc} - Obecidad tipo II\")\n",
        "else:\n",
        "  print(f\"Su IMC es {imc} - Obecidad tipo III\")\n"
      ]
    }
  ]
}